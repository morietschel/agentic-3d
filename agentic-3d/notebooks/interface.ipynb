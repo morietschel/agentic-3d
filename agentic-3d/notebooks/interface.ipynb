{
 "cells": [
  {
   "cell_type": "code",
   "execution_count": null,
   "metadata": {},
   "outputs": [],
   "source": [
    "%load_ext autoreload\n",
    "%autoreload 2"
   ]
  },
  {
   "cell_type": "markdown",
   "metadata": {},
   "source": [
    "# Agentic 3D Interface\n",
    "\n",
    "1. Here we run Agentic 3D by providing an initial description of what we want OpenSCAD to generate. \n",
    "2. Once initial description is given, we iterate over multiple rounds with Feedback Agents to generate the final OpenSCAD code and Rendering as a .png. \n",
    "3. Then, we collect evaluation metrics regarding the improvement process.\n",
    "\n",
    "As a tool, you can use this to develop an OpenSCAD object and rendering given an initial description."
   ]
  },
  {
   "cell_type": "code",
   "execution_count": null,
   "metadata": {},
   "outputs": [],
   "source": [
    "from agentic_3d.prompter import Prompter\n",
    "from agentic_3d.strategy import *\n",
    "from agentic_3d.workflow import Workflow"
   ]
  },
  {
   "cell_type": "code",
   "execution_count": 37,
   "metadata": {},
   "outputs": [],
   "source": [
    "user_description = \"designer chair\""
   ]
  },
  {
   "cell_type": "code",
   "execution_count": 38,
   "metadata": {},
   "outputs": [],
   "source": [
    "my_strategies = [DirectStrategy(), Print3DStrategy(), ArtisticStrategy()]\n",
    "prompter = Prompter(user_description, my_strategies)"
   ]
  },
  {
   "cell_type": "code",
   "execution_count": null,
   "metadata": {},
   "outputs": [],
   "source": [
    "prompts = prompter.get_all_prompts()\n",
    "prompts"
   ]
  },
  {
   "cell_type": "code",
   "execution_count": 40,
   "metadata": {},
   "outputs": [],
   "source": [
    "workflow = Workflow(prompts['print3d'])"
   ]
  },
  {
   "cell_type": "code",
   "execution_count": null,
   "metadata": {},
   "outputs": [],
   "source": [
    "history = workflow.run(clear_cache=False)"
   ]
  },
  {
   "cell_type": "code",
   "execution_count": null,
   "metadata": {},
   "outputs": [],
   "source": [
    "history"
   ]
  }
 ],
 "metadata": {
  "kernelspec": {
   "display_name": "agentic_3d",
   "language": "python",
   "name": "python3"
  },
  "language_info": {
   "codemirror_mode": {
    "name": "ipython",
    "version": 3
   },
   "file_extension": ".py",
   "mimetype": "text/x-python",
   "name": "python",
   "nbconvert_exporter": "python",
   "pygments_lexer": "ipython3",
   "version": "3.10.9"
  }
 },
 "nbformat": 4,
 "nbformat_minor": 2
}
